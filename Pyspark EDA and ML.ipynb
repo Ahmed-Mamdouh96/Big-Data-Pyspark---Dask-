{
 "cells": [
  {
   "cell_type": "markdown",
   "metadata": {
    "id": "gUxZnsqrmynW"
   },
   "source": [
    "## To perform this task follow the following guiding steps:"
   ]
  },
  {
   "cell_type": "markdown",
   "metadata": {
    "id": "ViMbmHiGU3dH"
   },
   "source": [
    "### Create a spark session and import the required libraries"
   ]
  },
  {
   "cell_type": "code",
   "execution_count": null,
   "metadata": {
    "id": "IeEx4acZU3dI"
   },
   "outputs": [],
   "source": [
    "import os\n",
    "os.environ[\"JAVA_HOME\"]=\"C:\\Program Files\\Java\\jre1.8.0_291\"\n",
    "os.environ[\"PATH\"]=os.environ[\"JAVA_HOME\"]+\"/bin:\"+os.environ[\"PATH\"]\n"
   ]
  },
  {
   "cell_type": "code",
   "execution_count": null,
   "metadata": {
    "id": "s4hZF6HGU3dM"
   },
   "outputs": [],
   "source": [
    "import findspark \n",
    "findspark.init()\n",
    "import pyspark \n",
    "\n",
    "from pyspark.sql import SparkSession\n",
    "from pyspark.sql.functions import count\n",
    "\n",
    "spark = (SparkSession\n",
    ".builder\n",
    ".appName(\"DataFrame\")\n",
    ".getOrCreate())"
   ]
  },
  {
   "cell_type": "markdown",
   "metadata": {
    "id": "tGPWLp4iU3dN"
   },
   "source": [
    "### Create a data schema programatically"
   ]
  },
  {
   "cell_type": "code",
   "execution_count": null,
   "metadata": {
    "id": "B-9-scG7U3dO"
   },
   "outputs": [],
   "source": [
    "from pyspark.sql.types import *\n",
    "schema = StructType([StructField(\"id\", IntegerType(), False),\n",
    "                     StructField(\"gender\", StringType(), False),\n",
    "                     StructField(\"age\", DoubleType(), False),\n",
    "                      StructField(\"hypertension\", IntegerType(), False),\n",
    "                      StructField(\"heart_disease\", IntegerType(), False),\n",
    "                      StructField(\"ever_married\", StringType(), False),\n",
    "                      StructField(\"work_type\", StringType(), False),\n",
    "                     StructField(\"Residence_type\", StringType(), False),\n",
    "                     StructField(\"avg_glucose_level\", DoubleType(), False),\n",
    "                     StructField(\"bmi\", DoubleType(), False),\n",
    "                     StructField(\"smoking_status\", StringType(), False),\n",
    "                     StructField(\"stroke\", IntegerType(), False)\n",
    "                     ])"
   ]
  },
  {
   "cell_type": "markdown",
   "metadata": {
    "id": "v7xAxqGUU3dO"
   },
   "source": [
    "### Read the data using the standard DataReader (Key,Value) pairs format\n",
    "- Provide the schema and any other required options."
   ]
  },
  {
   "cell_type": "code",
   "execution_count": null,
   "metadata": {
    "id": "M-FwY1v5U3dP"
   },
   "outputs": [],
   "source": [
    "df = spark.read.csv('healthcare-dataset-stroke-data.csv',schema=schema,header=True)"
   ]
  },
  {
   "cell_type": "markdown",
   "metadata": {
    "id": "Asf3QnwwU3dP"
   },
   "source": [
    "### Explore the data \n",
    "#### You have to do the following:\n",
    "- Print the Schema.\n",
    "- Show the first 10 rows from the data.\n",
    "- Explore null values and show how many null values in each column.\n",
    "- Plot a count plot for the target label and <b>notice the graph</b>.\n",
    "- Perform any additional EDA you find useful."
   ]
  },
  {
   "cell_type": "code",
   "execution_count": null,
   "metadata": {
    "id": "I0uclIpHU3dQ",
    "outputId": "7ddd6881-c4c3-4e72-f92a-6f197bdf8060"
   },
   "outputs": [
    {
     "name": "stdout",
     "output_type": "stream",
     "text": [
      "root\n",
      " |-- id: integer (nullable = true)\n",
      " |-- gender: string (nullable = true)\n",
      " |-- age: double (nullable = true)\n",
      " |-- hypertension: integer (nullable = true)\n",
      " |-- heart_disease: integer (nullable = true)\n",
      " |-- ever_married: string (nullable = true)\n",
      " |-- work_type: string (nullable = true)\n",
      " |-- Residence_type: string (nullable = true)\n",
      " |-- avg_glucose_level: double (nullable = true)\n",
      " |-- bmi: double (nullable = true)\n",
      " |-- smoking_status: string (nullable = true)\n",
      " |-- stroke: integer (nullable = true)\n",
      "\n"
     ]
    }
   ],
   "source": [
    "df.printSchema()"
   ]
  },
  {
   "cell_type": "code",
   "execution_count": null,
   "metadata": {
    "id": "RozjJxXhU3dR",
    "outputId": "7b524085-b9b3-4bab-84f9-144dc28f8575"
   },
   "outputs": [
    {
     "data": {
      "text/plain": [
       "[Row(id=9046, gender='Male', age=67.0, hypertension=0, heart_disease=1, ever_married='Yes', work_type='Private', Residence_type='Urban', avg_glucose_level=228.69, bmi=36.6, smoking_status='formerly smoked', stroke=1),\n",
       " Row(id=51676, gender='Female', age=61.0, hypertension=0, heart_disease=0, ever_married='Yes', work_type='Self-employed', Residence_type='Rural', avg_glucose_level=202.21, bmi=None, smoking_status='never smoked', stroke=1),\n",
       " Row(id=31112, gender='Male', age=80.0, hypertension=0, heart_disease=1, ever_married='Yes', work_type='Private', Residence_type='Rural', avg_glucose_level=105.92, bmi=32.5, smoking_status='never smoked', stroke=1),\n",
       " Row(id=60182, gender='Female', age=49.0, hypertension=0, heart_disease=0, ever_married='Yes', work_type='Private', Residence_type='Urban', avg_glucose_level=171.23, bmi=34.4, smoking_status='smokes', stroke=1),\n",
       " Row(id=1665, gender='Female', age=79.0, hypertension=1, heart_disease=0, ever_married='Yes', work_type='Self-employed', Residence_type='Rural', avg_glucose_level=174.12, bmi=24.0, smoking_status='never smoked', stroke=1),\n",
       " Row(id=56669, gender='Male', age=81.0, hypertension=0, heart_disease=0, ever_married='Yes', work_type='Private', Residence_type='Urban', avg_glucose_level=186.21, bmi=29.0, smoking_status='formerly smoked', stroke=1),\n",
       " Row(id=53882, gender='Male', age=74.0, hypertension=1, heart_disease=1, ever_married='Yes', work_type='Private', Residence_type='Rural', avg_glucose_level=70.09, bmi=27.4, smoking_status='never smoked', stroke=1),\n",
       " Row(id=10434, gender='Female', age=69.0, hypertension=0, heart_disease=0, ever_married='No', work_type='Private', Residence_type='Urban', avg_glucose_level=94.39, bmi=22.8, smoking_status='never smoked', stroke=1),\n",
       " Row(id=27419, gender='Female', age=59.0, hypertension=0, heart_disease=0, ever_married='Yes', work_type='Private', Residence_type='Rural', avg_glucose_level=76.15, bmi=None, smoking_status='Unknown', stroke=1),\n",
       " Row(id=60491, gender='Female', age=78.0, hypertension=0, heart_disease=0, ever_married='Yes', work_type='Private', Residence_type='Urban', avg_glucose_level=58.57, bmi=24.2, smoking_status='Unknown', stroke=1)]"
      ]
     },
     "execution_count": 6,
     "metadata": {},
     "output_type": "execute_result"
    }
   ],
   "source": [
    "df.head(10)"
   ]
  },
  {
   "cell_type": "code",
   "execution_count": null,
   "metadata": {
    "id": "tYTP34sWU3dT",
    "outputId": "10250545-6713-41d6-e250-bb28841b84f9"
   },
   "outputs": [
    {
     "name": "stdout",
     "output_type": "stream",
     "text": [
      "+---+------+---+------------+-------------+------------+---------+--------------+-----------------+---+--------------+------+\n",
      "| id|gender|age|hypertension|heart_disease|ever_married|work_type|Residence_type|avg_glucose_level|bmi|smoking_status|stroke|\n",
      "+---+------+---+------------+-------------+------------+---------+--------------+-----------------+---+--------------+------+\n",
      "|  0|     0|  0|           0|            0|           0|        0|             0|                0|201|             0|     0|\n",
      "+---+------+---+------------+-------------+------------+---------+--------------+-----------------+---+--------------+------+\n",
      "\n"
     ]
    }
   ],
   "source": [
    "from pyspark.sql.functions import *\n",
    "df.select([count(when(col(c).isNull(), c)).alias(c) for c in df.columns]).show()\n"
   ]
  },
  {
   "cell_type": "code",
   "execution_count": null,
   "metadata": {
    "id": "QwucbzOqU3dU",
    "outputId": "a9ee59d4-05e3-4bd5-a698-42dcd7ae8c53"
   },
   "outputs": [
    {
     "name": "stdout",
     "output_type": "stream",
     "text": [
      "+------+-----+\n",
      "|stroke|count|\n",
      "+------+-----+\n",
      "|     1|  249|\n",
      "|     0| 4861|\n",
      "+------+-----+\n",
      "\n"
     ]
    }
   ],
   "source": [
    "df.groupBy(df.stroke).count().show()"
   ]
  },
  {
   "cell_type": "code",
   "execution_count": null,
   "metadata": {
    "id": "z8Zi0mEsU3dU"
   },
   "outputs": [],
   "source": [
    "pandasDF = df.toPandas()\n"
   ]
  },
  {
   "cell_type": "code",
   "execution_count": null,
   "metadata": {
    "id": "TwR0gKKvU3dU",
    "outputId": "51c20c44-0269-42ed-c454-d48979fd082c"
   },
   "outputs": [
    {
     "name": "stdout",
     "output_type": "stream",
     "text": [
      "5110\n"
     ]
    },
    {
     "data": {
      "text/plain": [
       "<AxesSubplot:xlabel='stroke', ylabel='count'>"
      ]
     },
     "execution_count": 60,
     "metadata": {},
     "output_type": "execute_result"
    },
    {
     "data": {
      "image/png": "[encoded data removed]",
      "text/plain": [
       "<Figure size 864x720 with 1 Axes>"
      ]
     },
     "metadata": {
      "needs_background": "light"
     },
     "output_type": "display_data"
    }
   ],
   "source": [
    "import matplotlib.pyplot as plt\n",
    "import seaborn as sns\n",
    "%matplotlib inline\n",
    "pandasDF = df.toPandas()\n",
    "print(len(pandasDF))\n",
    "plt.figure(figsize=(12,10))\n",
    "sns.countplot(x='stroke', data=pandasDF, order=pandasDF['stroke'].value_counts().index)"
   ]
  },
  {
   "cell_type": "markdown",
   "metadata": {
    "id": "n3qBjmcDU3dV"
   },
   "source": [
    "### Get the summary statistics of the age column\n",
    "- You will find the minimum age is about <b>0.08</b>.\n",
    "- Remove rows for the age below <b>2 years old</b>."
   ]
  },
  {
   "cell_type": "code",
   "execution_count": null,
   "metadata": {
    "id": "wQBdCGjbU3dV",
    "outputId": "fe01a952-709a-4975-b415-a3f49ea01fb2"
   },
   "outputs": [
    {
     "name": "stdout",
     "output_type": "stream",
     "text": [
      "+-------+------------------+\n",
      "|summary|               age|\n",
      "+-------+------------------+\n",
      "|  count|              5110|\n",
      "|   mean|43.226614481409015|\n",
      "| stddev| 22.61264672311348|\n",
      "|    min|              0.08|\n",
      "|    max|              82.0|\n",
      "+-------+------------------+\n",
      "\n"
     ]
    }
   ],
   "source": [
    "df.describe(['age']).show()"
   ]
  },
  {
   "cell_type": "code",
   "execution_count": null,
   "metadata": {
    "id": "CUU_Fc_zU3dV"
   },
   "outputs": [],
   "source": [
    "new_df = df.filter(df.age>2)"
   ]
  },
  {
   "cell_type": "code",
   "execution_count": null,
   "metadata": {
    "id": "7VPWtC4xU3dV",
    "outputId": "3df6c1a1-cdae-4916-bef7-6a8e927392de"
   },
   "outputs": [
    {
     "name": "stdout",
     "output_type": "stream",
     "text": [
      "+-----+------+----+------------+-------------+------------+-------------+--------------+-----------------+----+---------------+------+\n",
      "|   id|gender| age|hypertension|heart_disease|ever_married|    work_type|Residence_type|avg_glucose_level| bmi| smoking_status|stroke|\n",
      "+-----+------+----+------------+-------------+------------+-------------+--------------+-----------------+----+---------------+------+\n",
      "| 9046|  Male|67.0|           0|            1|         Yes|      Private|         Urban|           228.69|36.6|formerly smoked|     1|\n",
      "|51676|Female|61.0|           0|            0|         Yes|Self-employed|         Rural|           202.21|null|   never smoked|     1|\n",
      "|31112|  Male|80.0|           0|            1|         Yes|      Private|         Rural|           105.92|32.5|   never smoked|     1|\n",
      "|60182|Female|49.0|           0|            0|         Yes|      Private|         Urban|           171.23|34.4|         smokes|     1|\n",
      "| 1665|Female|79.0|           1|            0|         Yes|Self-employed|         Rural|           174.12|24.0|   never smoked|     1|\n",
      "|56669|  Male|81.0|           0|            0|         Yes|      Private|         Urban|           186.21|29.0|formerly smoked|     1|\n",
      "|53882|  Male|74.0|           1|            1|         Yes|      Private|         Rural|            70.09|27.4|   never smoked|     1|\n",
      "|10434|Female|69.0|           0|            0|          No|      Private|         Urban|            94.39|22.8|   never smoked|     1|\n",
      "|27419|Female|59.0|           0|            0|         Yes|      Private|         Rural|            76.15|null|        Unknown|     1|\n",
      "|60491|Female|78.0|           0|            0|         Yes|      Private|         Urban|            58.57|24.2|        Unknown|     1|\n",
      "|12109|Female|81.0|           1|            0|         Yes|      Private|         Rural|            80.43|29.7|   never smoked|     1|\n",
      "|12095|Female|61.0|           0|            1|         Yes|     Govt_job|         Rural|           120.46|36.8|         smokes|     1|\n",
      "|12175|Female|54.0|           0|            0|         Yes|      Private|         Urban|           104.51|27.3|         smokes|     1|\n",
      "| 8213|  Male|78.0|           0|            1|         Yes|      Private|         Urban|           219.84|null|        Unknown|     1|\n",
      "| 5317|Female|79.0|           0|            1|         Yes|      Private|         Urban|           214.09|28.2|   never smoked|     1|\n",
      "|58202|Female|50.0|           1|            0|         Yes|Self-employed|         Rural|           167.41|30.9|   never smoked|     1|\n",
      "|56112|  Male|64.0|           0|            1|         Yes|      Private|         Urban|           191.61|37.5|         smokes|     1|\n",
      "|34120|  Male|75.0|           1|            0|         Yes|      Private|         Urban|           221.29|25.8|         smokes|     1|\n",
      "|27458|Female|60.0|           0|            0|          No|      Private|         Urban|            89.22|37.8|   never smoked|     1|\n",
      "|25226|  Male|57.0|           0|            1|          No|     Govt_job|         Urban|           217.08|null|        Unknown|     1|\n",
      "+-----+------+----+------------+-------------+------------+-------------+--------------+-----------------+----+---------------+------+\n",
      "only showing top 20 rows\n",
      "\n"
     ]
    }
   ],
   "source": [
    "new_df.show()"
   ]
  },
  {
   "cell_type": "markdown",
   "metadata": {
    "id": "yb_mheC_U3dW"
   },
   "source": [
    "### Working with gender & smoking_status columns:\n",
    "- Select and show the gender & smoking_status columns\n",
    "- Get the distinct values for each column."
   ]
  },
  {
   "cell_type": "code",
   "execution_count": null,
   "metadata": {
    "id": "HimLARMFU3dW",
    "outputId": "bf1dfa2e-0a2c-41c5-d705-3b8514a66466"
   },
   "outputs": [
    {
     "name": "stdout",
     "output_type": "stream",
     "text": [
      "+------+---------------+\n",
      "|gender| smoking_status|\n",
      "+------+---------------+\n",
      "|  Male|formerly smoked|\n",
      "|Female|   never smoked|\n",
      "|  Male|   never smoked|\n",
      "|Female|         smokes|\n",
      "|Female|   never smoked|\n",
      "|  Male|formerly smoked|\n",
      "|  Male|   never smoked|\n",
      "|Female|   never smoked|\n",
      "|Female|        Unknown|\n",
      "|Female|        Unknown|\n",
      "|Female|   never smoked|\n",
      "|Female|         smokes|\n",
      "|Female|         smokes|\n",
      "|  Male|        Unknown|\n",
      "|Female|   never smoked|\n",
      "|Female|   never smoked|\n",
      "|  Male|         smokes|\n",
      "|  Male|         smokes|\n",
      "|Female|   never smoked|\n",
      "|  Male|        Unknown|\n",
      "+------+---------------+\n",
      "only showing top 20 rows\n",
      "\n"
     ]
    }
   ],
   "source": [
    "new_df.select('gender','smoking_status').show()"
   ]
  },
  {
   "cell_type": "code",
   "execution_count": null,
   "metadata": {
    "id": "4xx98x66U3dW"
   },
   "outputs": [],
   "source": []
  },
  {
   "cell_type": "code",
   "execution_count": null,
   "metadata": {
    "id": "I3wsgjmbU3dX"
   },
   "outputs": [],
   "source": []
  },
  {
   "cell_type": "code",
   "execution_count": null,
   "metadata": {
    "id": "2OjFVz81U3dX",
    "outputId": "efce3cef-2464-4daa-b403-527a765695b8"
   },
   "outputs": [
    {
     "name": "stdout",
     "output_type": "stream",
     "text": [
      "+------+\n",
      "|gender|\n",
      "+------+\n",
      "|Female|\n",
      "| Other|\n",
      "|  Male|\n",
      "+------+\n",
      "\n"
     ]
    }
   ],
   "source": [
    "new_df.select('gender').distinct().show()"
   ]
  },
  {
   "cell_type": "code",
   "execution_count": null,
   "metadata": {
    "id": "YddsLbt8U3dX",
    "outputId": "12419b0d-acab-45bb-bf41-838704ada8dc"
   },
   "outputs": [
    {
     "name": "stdout",
     "output_type": "stream",
     "text": [
      "+---------------+\n",
      "| smoking_status|\n",
      "+---------------+\n",
      "|         smokes|\n",
      "|        Unknown|\n",
      "|   never smoked|\n",
      "|formerly smoked|\n",
      "+---------------+\n",
      "\n"
     ]
    }
   ],
   "source": [
    "new_df.select('smoking_status').distinct().show()"
   ]
  },
  {
   "cell_type": "markdown",
   "metadata": {
    "id": "HQFPKukRLzbB"
   },
   "source": [
    "#### Change the string values of the columns into numerical values as follow:\n",
    "1. Gender column:\n",
    "    * Male = 1 \n",
    "    * Female = 0 \n",
    "    * Other = 0 \n",
    "2. Smoking Status column:\n",
    "  * never smoked = 0\n",
    "  * Unknown = 0.5\n",
    "  * formerly smoked = 0.75\n",
    "  * smokes = 1.0\n"
   ]
  },
  {
   "cell_type": "code",
   "execution_count": null,
   "metadata": {
    "id": "Iq7Q9nrIU3dY"
   },
   "outputs": [],
   "source": [
    "gender_map = {'Male':1 , 'Female':0 , 'Other':0}\n",
    "smoking = {'never smoked':0 , 'Unknown':0.5 ,'formerly smoked':0.75  ,'smokes' :1 }"
   ]
  },
  {
   "cell_type": "code",
   "execution_count": null,
   "metadata": {
    "id": "Va22DNwQU3dY"
   },
   "outputs": [],
   "source": [
    "from pyspark.sql.functions import udf\n",
    "def impute_gender(gen):\n",
    "    return gender_map[gen]\n",
    "\n",
    "udf_new1=udf(lambda x: impute_gender(x))\n",
    "\n",
    "\n",
    "def impute_smoke(smk):\n",
    "    return smoking[smk]\n",
    "\n",
    "udf_new2=udf(lambda x: impute_smoke(x))"
   ]
  },
  {
   "cell_type": "code",
   "execution_count": null,
   "metadata": {
    "id": "9Ry6WQgjU3dY"
   },
   "outputs": [],
   "source": [
    "from pyspark.sql import functions as f\n",
    "\n",
    "new_df_1=new_df.withColumn('Gender',udf_new1(f.col('gender')))"
   ]
  },
  {
   "cell_type": "code",
   "execution_count": null,
   "metadata": {
    "id": "58WFPrs1U3dY"
   },
   "outputs": [],
   "source": [
    "new_df_2=new_df_1.withColumn('Smoking_status',udf_new2(f.col('smoking_status')))"
   ]
  },
  {
   "cell_type": "markdown",
   "metadata": {
    "id": "pDB6CdELU3dY"
   },
   "source": [
    "#### Show the output DataFrame\n",
    "- Select and show the gender & smoking_status columns after value changing.\n",
    "- Print schema for the new dataframe."
   ]
  },
  {
   "cell_type": "code",
   "execution_count": null,
   "metadata": {
    "id": "V4BRcJ7gU3dZ",
    "outputId": "72f205f9-c788-493f-f192-72aea731405e"
   },
   "outputs": [
    {
     "name": "stdout",
     "output_type": "stream",
     "text": [
      "+--------------+------+\n",
      "|Smoking_status|Gender|\n",
      "+--------------+------+\n",
      "|          0.75|     1|\n",
      "|             0|     0|\n",
      "|             0|     1|\n",
      "|             1|     0|\n",
      "|             0|     0|\n",
      "|          0.75|     1|\n",
      "|             0|     1|\n",
      "|             0|     0|\n",
      "|           0.5|     0|\n",
      "|           0.5|     0|\n",
      "|             0|     0|\n",
      "|             1|     0|\n",
      "|             1|     0|\n",
      "|           0.5|     1|\n",
      "|             0|     0|\n",
      "|             0|     0|\n",
      "|             1|     1|\n",
      "|             1|     1|\n",
      "|             0|     0|\n",
      "|           0.5|     1|\n",
      "+--------------+------+\n",
      "only showing top 20 rows\n",
      "\n"
     ]
    }
   ],
   "source": [
    "new_df_2.select('Smoking_status','Gender').show()"
   ]
  },
  {
   "cell_type": "code",
   "execution_count": null,
   "metadata": {
    "id": "Wo2_RiUkU3dZ"
   },
   "outputs": [],
   "source": [
    "new_df_3=new_df_2.withColumn(\"gender\",col(\"Gender\").cast(IntegerType()))\n"
   ]
  },
  {
   "cell_type": "code",
   "execution_count": null,
   "metadata": {
    "id": "oywkVdKpU3dZ"
   },
   "outputs": [],
   "source": [
    "new_df_4=new_df_3.withColumn(\"smoking_status\",col(\"Smoking_status\").cast(FloatType()))\n"
   ]
  },
  {
   "cell_type": "code",
   "execution_count": null,
   "metadata": {
    "id": "7VEby4xbU3dZ",
    "outputId": "f9130bd1-164f-4697-93c7-79e10c6dc0ac"
   },
   "outputs": [
    {
     "name": "stdout",
     "output_type": "stream",
     "text": [
      "+--------------+------+\n",
      "|smoking_status|gender|\n",
      "+--------------+------+\n",
      "|          0.75|     1|\n",
      "|           0.0|     0|\n",
      "|           0.0|     1|\n",
      "|           1.0|     0|\n",
      "|           0.0|     0|\n",
      "|          0.75|     1|\n",
      "|           0.0|     1|\n",
      "|           0.0|     0|\n",
      "|           0.5|     0|\n",
      "|           0.5|     0|\n",
      "|           0.0|     0|\n",
      "|           1.0|     0|\n",
      "|           1.0|     0|\n",
      "|           0.5|     1|\n",
      "|           0.0|     0|\n",
      "|           0.0|     0|\n",
      "|           1.0|     1|\n",
      "|           1.0|     1|\n",
      "|           0.0|     0|\n",
      "|           0.5|     1|\n",
      "+--------------+------+\n",
      "only showing top 20 rows\n",
      "\n"
     ]
    }
   ],
   "source": [
    "new_df_4.select('smoking_status','gender').show()"
   ]
  },
  {
   "cell_type": "code",
   "execution_count": null,
   "metadata": {
    "id": "Yf-Oio4eU3db",
    "outputId": "c88bc83d-edab-4106-eccc-848fc6396d78"
   },
   "outputs": [
    {
     "name": "stdout",
     "output_type": "stream",
     "text": [
      "root\n",
      " |-- id: integer (nullable = true)\n",
      " |-- gender: integer (nullable = true)\n",
      " |-- age: double (nullable = true)\n",
      " |-- hypertension: integer (nullable = true)\n",
      " |-- heart_disease: integer (nullable = true)\n",
      " |-- ever_married: string (nullable = true)\n",
      " |-- work_type: string (nullable = true)\n",
      " |-- Residence_type: string (nullable = true)\n",
      " |-- avg_glucose_level: double (nullable = true)\n",
      " |-- bmi: double (nullable = true)\n",
      " |-- smoking_status: float (nullable = true)\n",
      " |-- stroke: integer (nullable = true)\n",
      "\n"
     ]
    }
   ],
   "source": [
    "new_df_4.printSchema()"
   ]
  },
  {
   "cell_type": "markdown",
   "metadata": {
    "id": "MNpCAfu5U3dc"
   },
   "source": [
    "### Deal with null value according to your data analysis."
   ]
  },
  {
   "cell_type": "code",
   "execution_count": null,
   "metadata": {
    "id": "GvMbDjjHU3dc",
    "outputId": "7c71fa8b-a296-4e52-84f8-0ae47d63a2fd"
   },
   "outputs": [
    {
     "name": "stdout",
     "output_type": "stream",
     "text": [
      "29.257489451476793\n"
     ]
    }
   ],
   "source": [
    "mean_bmi = new_df_4.select(f.mean(col('bmi')).alias('mean')).collect()\n",
    "mean = mean_bmi[0]['mean']\n",
    "print(mean)"
   ]
  },
  {
   "cell_type": "code",
   "execution_count": null,
   "metadata": {
    "id": "Gf0YSUWSU3dd"
   },
   "outputs": [],
   "source": [
    "last_df=new_df_4.na.fill(value=mean,subset=[\"bmi\"])"
   ]
  },
  {
   "cell_type": "markdown",
   "metadata": {
    "id": "p509uAbYU3de"
   },
   "source": [
    "### Split the data into training and test dataframes:\n",
    "- 80% training and 20% test.\n",
    "- seed = 42.\n",
    "- Save each dataframe as a parquet file"
   ]
  },
  {
   "cell_type": "code",
   "execution_count": null,
   "metadata": {
    "id": "CyGdxygXU3df",
    "outputId": "22f8edfc-724a-4060-bd0f-6b9ccb3840df"
   },
   "outputs": [
    {
     "name": "stdout",
     "output_type": "stream",
     "text": [
      "There are 3991 rows in the training set, and 944 in the test set\n"
     ]
    }
   ],
   "source": [
    "trainDF, testDF = last_df.randomSplit([.8,.2],seed=42)\n",
    "print(f\"There are {trainDF.count()} rows in the training set, and {testDF.count()} in the test set\")\n",
    "trainDF.write.parquet('train_data')\n",
    "testDF.write.parquet('test_data')"
   ]
  },
  {
   "cell_type": "markdown",
   "metadata": {
    "id": "BgFux6smU3df"
   },
   "source": [
    "### Read the saved Train and Test DataFrame:\n",
    "- Use the dataframes you read in the subsequent steps."
   ]
  },
  {
   "cell_type": "code",
   "execution_count": null,
   "metadata": {
    "id": "m01wpGZtU3dg"
   },
   "outputs": [],
   "source": [
    "train=spark.read.parquet('train.parquet')\n",
    "test=spark.read.parquet('test.parquet')\n"
   ]
  },
  {
   "cell_type": "markdown",
   "metadata": {
    "id": "r8gl6XvHU3dg"
   },
   "source": [
    "### Create the model:\n",
    "- Perform feature engineering steps.\n",
    "- Create the logistic regression classifier.\n",
    "- Build the pipeline model that uses all feature engineering steps and the model.\n",
    "- Train the pipeline model using the trainig dataset."
   ]
  },
  {
   "cell_type": "code",
   "execution_count": null,
   "metadata": {
    "id": "FxrWMfPFU3dg",
    "outputId": "d468c921-f8be-4af1-815c-fca502e3694a"
   },
   "outputs": [
    {
     "name": "stdout",
     "output_type": "stream",
     "text": [
      "['ever_married', 'work_type', 'Residence_type']\n"
     ]
    }
   ],
   "source": [
    "categorical_columns = [field for (field,dataType) in train.dtypes if ((dataType == 'string'))]\n",
    "print((categorical_columns))"
   ]
  },
  {
   "cell_type": "code",
   "execution_count": null,
   "metadata": {
    "id": "b7BXmAarU3dh"
   },
   "outputs": [],
   "source": [
    "indexOutput= [x + \"_Index\" for x in categorical_columns]"
   ]
  },
  {
   "cell_type": "code",
   "execution_count": null,
   "metadata": {
    "id": "-B4Y8kXuU3di"
   },
   "outputs": [],
   "source": [
    "OneHotColumns = [x + \"_ OHE\" for x in categorical_columns]"
   ]
  },
  {
   "cell_type": "code",
   "execution_count": null,
   "metadata": {
    "id": "y0KhKIofU3dj"
   },
   "outputs": [],
   "source": [
    "from pyspark.ml.feature import VectorAssembler ,StringIndexer,OneHotEncoder\n",
    "\n",
    "stringIndexer = StringIndexer(inputCols=categorical_columns ,outputCols=indexOutput,handleInvalid='skip')\n",
    "onehotEncoder = OneHotEncoder(inputCols=indexOutput,outputCols=OneHotColumns)\n",
    "\n",
    "numericColumns  = [field for (field,dataType) in trainDF.dtypes if ((dataType == 'double') | (dataType =='int') |(dataType =='float') ) & ((field != 'stroke') &(field != 'id')) ]\n"
   ]
  },
  {
   "cell_type": "code",
   "execution_count": null,
   "metadata": {
    "id": "CmlGQnImU3dj",
    "outputId": "bb739e07-1db8-4e75-b622-1ea4d37ab036"
   },
   "outputs": [
    {
     "name": "stdout",
     "output_type": "stream",
     "text": [
      "['gender', 'age', 'hypertension', 'heart_disease', 'avg_glucose_level', 'bmi', 'smoking_status']\n"
     ]
    }
   ],
   "source": [
    "print(numericColumns)"
   ]
  },
  {
   "cell_type": "code",
   "execution_count": null,
   "metadata": {
    "id": "0xIbAo_1U3dk"
   },
   "outputs": [],
   "source": [
    "assembler_Inputs = OneHotColumns + numericColumns"
   ]
  },
  {
   "cell_type": "code",
   "execution_count": null,
   "metadata": {
    "id": "o-kLzcRuU3dk"
   },
   "outputs": [],
   "source": [
    "vecAssembler = VectorAssembler(inputCols=assembler_Inputs , outputCol='features')"
   ]
  },
  {
   "cell_type": "code",
   "execution_count": null,
   "metadata": {
    "id": "POmGcxRUU3dk"
   },
   "outputs": [],
   "source": [
    "from pyspark.ml.classification import LogisticRegression\n",
    "\n",
    "model = LogisticRegression(labelCol='stroke',featuresCol='features')"
   ]
  },
  {
   "cell_type": "code",
   "execution_count": null,
   "metadata": {
    "id": "8Wz3d1fUU3dm"
   },
   "outputs": [],
   "source": [
    "from pyspark.ml import Pipeline\n",
    "pipeline = Pipeline(stages=[stringIndexer,onehotEncoder,vecAssembler,model])\n",
    "pipeline_Model = pipeline.fit(train)"
   ]
  },
  {
   "cell_type": "markdown",
   "metadata": {
    "id": "-XIECc5UU3dn"
   },
   "source": [
    "### Perform predictions on tests dataframe:\n",
    "- Test the model using the test dataframe\n",
    "- Select and show the feature column.\n",
    "- Print the schema of the output dataframe.\n",
    "- Select and show both prediction and label columns.\n",
    "- Explore the results for the label column stroke=1. i.e. select both columns (prediction,stroke) for stroke=1.<b>notice the result.</b> \n",
    "- Count the predicted 1 and 0 values.<b>notice the result.</b>   "
   ]
  },
  {
   "cell_type": "code",
   "execution_count": null,
   "metadata": {
    "id": "VZE6tj4HU3dn"
   },
   "outputs": [],
   "source": [
    "predictions = pipeline_Model.transform(test)"
   ]
  },
  {
   "cell_type": "code",
   "execution_count": null,
   "metadata": {
    "id": "77Pp0kvcU3do",
    "outputId": "5d7bb3cb-ee00-45ce-a869-368730f08a57"
   },
   "outputs": [
    {
     "name": "stdout",
     "output_type": "stream",
     "text": [
      "+-------------------------------------------------------------------------+\n",
      "|features                                                                 |\n",
      "+-------------------------------------------------------------------------+\n",
      "|(13,[0,1,5,6,7,10,11],[1.0,1.0,1.0,1.0,55.0,89.17,31.5])                 |\n",
      "|(13,[1,5,7,10,11],[1.0,1.0,24.0,97.55,26.2])                             |\n",
      "|(13,[0,1,7,10,11],[1.0,1.0,33.0,86.97,42.2])                             |\n",
      "|(13,[0,1,7,10,11,12],[1.0,1.0,43.0,88.23,37.6,0.5])                      |\n",
      "|(13,[0,1,5,6,7,10,11],[1.0,1.0,1.0,1.0,79.0,198.79,24.9])                |\n",
      "|(13,[0,1,7,10,11],[1.0,1.0,43.0,110.32,28.4])                            |\n",
      "|(13,[0,2,6,7,8,10,11],[1.0,1.0,1.0,78.0,1.0,75.19,27.6])                 |\n",
      "|(13,[0,2,5,7,10,11],[1.0,1.0,1.0,74.0,74.96,26.6])                       |\n",
      "|(13,[4,7,10,11,12],[1.0,14.0,92.22,22.8,0.5])                            |\n",
      "|(13,[0,1,6,7,10,11,12],[1.0,1.0,1.0,69.0,101.52,26.8,1.0])               |\n",
      "|(13,[0,3,6,7,10,11,12],[1.0,1.0,1.0,52.0,87.26,40.1,1.0])                |\n",
      "|(13,[1,7,8,9,10,11,12],[1.0,82.0,1.0,1.0,84.03,26.5,0.75])               |\n",
      "|(13,[1,6,7,10,11],[1.0,1.0,17.0,81.77,44.7])                             |\n",
      "|(13,[0,2,7,10,11,12],[1.0,1.0,73.0,79.69,29.257489451476793,0.75])       |\n",
      "|(13,[0,1,7,8,10,11],[1.0,1.0,59.0,1.0,99.06,23.4])                       |\n",
      "|(13,[0,3,5,7,10,11,12],[1.0,1.0,1.0,60.0,80.86,31.0,1.0])                |\n",
      "|(13,[1,5,7,10,11],[1.0,1.0,14.0,83.42,28.7])                             |\n",
      "|[1.0,1.0,0.0,0.0,0.0,1.0,1.0,69.0,1.0,0.0,229.21,30.1,1.0]               |\n",
      "|[1.0,0.0,0.0,1.0,0.0,1.0,1.0,70.0,0.0,0.0,202.55,29.257489451476793,0.75]|\n",
      "|(13,[1,5,7,10,11],[1.0,1.0,29.0,71.89,27.6])                             |\n",
      "+-------------------------------------------------------------------------+\n",
      "only showing top 20 rows\n",
      "\n"
     ]
    }
   ],
   "source": [
    "predictions.select('features').show(truncate=False)"
   ]
  },
  {
   "cell_type": "code",
   "execution_count": null,
   "metadata": {
    "id": "OHHJ6sUxU3do",
    "outputId": "f37899ad-d722-4402-8911-e424b06f53df"
   },
   "outputs": [
    {
     "name": "stdout",
     "output_type": "stream",
     "text": [
      "root\n",
      " |-- id: integer (nullable = true)\n",
      " |-- gender: integer (nullable = true)\n",
      " |-- age: double (nullable = true)\n",
      " |-- hypertension: integer (nullable = true)\n",
      " |-- heart_disease: integer (nullable = true)\n",
      " |-- ever_married: string (nullable = true)\n",
      " |-- work_type: string (nullable = true)\n",
      " |-- Residence_type: string (nullable = true)\n",
      " |-- avg_glucose_level: double (nullable = true)\n",
      " |-- bmi: double (nullable = true)\n",
      " |-- smoking_status: float (nullable = true)\n",
      " |-- stroke: integer (nullable = true)\n",
      " |-- ever_married_Index: double (nullable = false)\n",
      " |-- work_type_Index: double (nullable = false)\n",
      " |-- Residence_type_Index: double (nullable = false)\n",
      " |-- ever_married_ OHE: vector (nullable = true)\n",
      " |-- work_type_ OHE: vector (nullable = true)\n",
      " |-- Residence_type_ OHE: vector (nullable = true)\n",
      " |-- features: vector (nullable = true)\n",
      " |-- rawPrediction: vector (nullable = true)\n",
      " |-- probability: vector (nullable = true)\n",
      " |-- prediction: double (nullable = false)\n",
      "\n"
     ]
    }
   ],
   "source": [
    "predictions.printSchema()"
   ]
  },
  {
   "cell_type": "code",
   "execution_count": null,
   "metadata": {
    "id": "S-4DPX1iU3do",
    "outputId": "21f3783f-862b-405d-dbf6-41f84048fb99"
   },
   "outputs": [
    {
     "name": "stdout",
     "output_type": "stream",
     "text": [
      "+------+----------+\n",
      "|stroke|prediction|\n",
      "+------+----------+\n",
      "|     0|       0.0|\n",
      "|     0|       0.0|\n",
      "|     0|       0.0|\n",
      "|     0|       0.0|\n",
      "|     0|       0.0|\n",
      "|     0|       0.0|\n",
      "|     0|       0.0|\n",
      "|     1|       0.0|\n",
      "|     0|       0.0|\n",
      "|     0|       0.0|\n",
      "|     0|       0.0|\n",
      "|     1|       0.0|\n",
      "|     0|       0.0|\n",
      "|     0|       0.0|\n",
      "|     0|       0.0|\n",
      "|     0|       0.0|\n",
      "|     0|       0.0|\n",
      "|     0|       0.0|\n",
      "|     0|       0.0|\n",
      "|     0|       0.0|\n",
      "+------+----------+\n",
      "only showing top 20 rows\n",
      "\n"
     ]
    }
   ],
   "source": [
    "predictions.select('stroke','prediction').show()"
   ]
  },
  {
   "cell_type": "code",
   "execution_count": null,
   "metadata": {
    "id": "7nO6FjnsU3do",
    "outputId": "699ff481-5187-47ba-8b55-1ba8c8d3a06c"
   },
   "outputs": [
    {
     "name": "stdout",
     "output_type": "stream",
     "text": [
      "+------+----------+\n",
      "|stroke|prediction|\n",
      "+------+----------+\n",
      "|     1|       0.0|\n",
      "|     1|       0.0|\n",
      "|     1|       0.0|\n",
      "|     1|       0.0|\n",
      "|     1|       0.0|\n",
      "|     1|       0.0|\n",
      "|     1|       0.0|\n",
      "|     1|       0.0|\n",
      "|     1|       0.0|\n",
      "|     1|       0.0|\n",
      "|     1|       0.0|\n",
      "|     1|       0.0|\n",
      "|     1|       0.0|\n",
      "|     1|       0.0|\n",
      "|     1|       0.0|\n",
      "|     1|       0.0|\n",
      "|     1|       0.0|\n",
      "|     1|       0.0|\n",
      "|     1|       0.0|\n",
      "|     1|       0.0|\n",
      "+------+----------+\n",
      "only showing top 20 rows\n",
      "\n"
     ]
    }
   ],
   "source": [
    "predictions.select('stroke','prediction').filter(predictions.stroke==1).show()  "
   ]
  },
  {
   "cell_type": "code",
   "execution_count": null,
   "metadata": {
    "id": "MYrpaUyyU3dp",
    "outputId": "607dd1fd-172f-42cc-c988-eaf6f5c8d5bf"
   },
   "outputs": [
    {
     "name": "stdout",
     "output_type": "stream",
     "text": [
      "+----------+-----+\n",
      "|prediction|count|\n",
      "+----------+-----+\n",
      "|       0.0|  943|\n",
      "|       1.0|    1|\n",
      "+----------+-----+\n",
      "\n"
     ]
    }
   ],
   "source": [
    "predictions.groupBy('prediction').count().show()"
   ]
  },
  {
   "cell_type": "markdown",
   "metadata": {
    "id": "PN3iTDYfU3dp"
   },
   "source": [
    "### Evaluate the model performance\n",
    "- Use <b>BinaryClassificationEvaluator</b>. This will calculate the <b>ROC</b>.\n",
    "- Set the parameters as follow:\n",
    "    - <b>rawPredictionCol='prediction'</b> and <b>labelCol='stroke'</b>"
   ]
  },
  {
   "cell_type": "code",
   "execution_count": null,
   "metadata": {
    "id": "X_UwMl94U3dp"
   },
   "outputs": [],
   "source": [
    "from pyspark.ml.evaluation import BinaryClassificationEvaluator"
   ]
  },
  {
   "cell_type": "code",
   "execution_count": null,
   "metadata": {
    "id": "0wKEph1xU3dp"
   },
   "outputs": [],
   "source": [
    "evaluatorROC = BinaryClassificationEvaluator(rawPredictionCol='prediction'\n",
    "                                             ,labelCol='stroke')"
   ]
  },
  {
   "cell_type": "code",
   "execution_count": null,
   "metadata": {
    "id": "jVBrCd4BU3dq",
    "outputId": "9439bf08-f147-4955-c5d2-24bd08d4caec"
   },
   "outputs": [
    {
     "data": {
      "text/plain": [
       "0.4994475138121547"
      ]
     },
     "execution_count": 49,
     "metadata": {},
     "output_type": "execute_result"
    }
   ],
   "source": [
    "evaluatorROC.evaluate(predictions)"
   ]
  },
  {
   "cell_type": "markdown",
   "metadata": {
    "id": "SLzEM2YjU3dq"
   },
   "source": [
    "### Improve Model Performance\n",
    "- You may noticed that <b>the target label is imbalanced</b>.\n",
    "- LogisticRegression classifier has a special parameter <b>weightCol</b> to deal with imbalanced class.\n",
    "- In order to use this parameter you must have a <b>weightCol</b> in your training dataframe.\n",
    "- In order to create this column you will need to define a <b>UDF</b> and apply it to the target label column.\n",
    "- Create a LogisticRegression classifier with <b>weightCol</b> parameter.\n",
    "- Build and train a pipeline model with the new LogisticRegression.\n",
    "- Perform the prediction on the test dataframe. \n",
    "- Select and show both prediction and label columns.\n",
    "- Explore the results for the label column stroke=1. i.e. select both columns (prediction,stroke) for stroke=1.<b>notice the result.</b> \n",
    "- Count the predicted 1 and 0 values.<b>notice the result.</b>   \n",
    "- Evaluate the model performance exactly as in the previous step.\n",
    "### YOU SHOULD OBTAIN  ROC > 0.65\n",
    "<BR>\n",
    "<b><font color='red'>Note: feel free to deal with the imbalanced cluster with the above method or another. However, you can only use methods applied on SPARK DATAFRAME</font></b>"
   ]
  },
  {
   "cell_type": "code",
   "execution_count": null,
   "metadata": {
    "id": "H7TQkevLU3dt"
   },
   "outputs": [],
   "source": [
    "from pyspark.sql.functions import when\n",
    "ratio = 0.95\n",
    "\n",
    "def weight_balance(labels):\n",
    "    return when(labels == 1, ratio).otherwise(1*(1-ratio))\n",
    "\n",
    "\n"
   ]
  },
  {
   "cell_type": "code",
   "execution_count": null,
   "metadata": {
    "id": "eRb07eX3U3dv"
   },
   "outputs": [],
   "source": [
    "last_train= train.withColumn('weights', weight_balance(col('stroke')))\n"
   ]
  },
  {
   "cell_type": "code",
   "execution_count": null,
   "metadata": {
    "id": "HrlkYWHqU3dv"
   },
   "outputs": [],
   "source": [
    "from pyspark.ml import Pipeline\n",
    "model_last = LogisticRegression(labelCol='stroke',featuresCol='features',weightCol='weights')\n",
    "\n",
    "pipeline = Pipeline(stages=[stringIndexer,onehotEncoder,vecAssembler,model_last])\n",
    "pipeline_Model = pipeline.fit(last_train)"
   ]
  },
  {
   "cell_type": "code",
   "execution_count": null,
   "metadata": {
    "id": "aAPV0ZPsU3dw"
   },
   "outputs": [],
   "source": [
    "predictions_last = pipeline_Model.transform(test)"
   ]
  },
  {
   "cell_type": "code",
   "execution_count": null,
   "metadata": {
    "id": "3FDJs-LDU3dw",
    "outputId": "a041dad6-fc37-4ea8-e8fc-a66c3ddc0068"
   },
   "outputs": [
    {
     "name": "stdout",
     "output_type": "stream",
     "text": [
      "root\n",
      " |-- id: integer (nullable = true)\n",
      " |-- gender: integer (nullable = true)\n",
      " |-- age: double (nullable = true)\n",
      " |-- hypertension: integer (nullable = true)\n",
      " |-- heart_disease: integer (nullable = true)\n",
      " |-- ever_married: string (nullable = true)\n",
      " |-- work_type: string (nullable = true)\n",
      " |-- Residence_type: string (nullable = true)\n",
      " |-- avg_glucose_level: double (nullable = true)\n",
      " |-- bmi: double (nullable = true)\n",
      " |-- smoking_status: float (nullable = true)\n",
      " |-- stroke: integer (nullable = true)\n",
      " |-- ever_married_Index: double (nullable = false)\n",
      " |-- work_type_Index: double (nullable = false)\n",
      " |-- Residence_type_Index: double (nullable = false)\n",
      " |-- ever_married_ OHE: vector (nullable = true)\n",
      " |-- work_type_ OHE: vector (nullable = true)\n",
      " |-- Residence_type_ OHE: vector (nullable = true)\n",
      " |-- features: vector (nullable = true)\n",
      " |-- rawPrediction: vector (nullable = true)\n",
      " |-- probability: vector (nullable = true)\n",
      " |-- prediction: double (nullable = false)\n",
      "\n"
     ]
    }
   ],
   "source": [
    "predictions_last.printSchema()"
   ]
  },
  {
   "cell_type": "code",
   "execution_count": null,
   "metadata": {
    "id": "ZPYgl61DU3dx",
    "outputId": "d11215d6-1178-43f7-d663-8534780c8f60"
   },
   "outputs": [
    {
     "name": "stdout",
     "output_type": "stream",
     "text": [
      "+-------------------------------------------------------------------------+\n",
      "|features                                                                 |\n",
      "+-------------------------------------------------------------------------+\n",
      "|(13,[0,1,5,6,7,10,11],[1.0,1.0,1.0,1.0,55.0,89.17,31.5])                 |\n",
      "|(13,[1,5,7,10,11],[1.0,1.0,24.0,97.55,26.2])                             |\n",
      "|(13,[0,1,7,10,11],[1.0,1.0,33.0,86.97,42.2])                             |\n",
      "|(13,[0,1,7,10,11,12],[1.0,1.0,43.0,88.23,37.6,0.5])                      |\n",
      "|(13,[0,1,5,6,7,10,11],[1.0,1.0,1.0,1.0,79.0,198.79,24.9])                |\n",
      "|(13,[0,1,7,10,11],[1.0,1.0,43.0,110.32,28.4])                            |\n",
      "|(13,[0,2,6,7,8,10,11],[1.0,1.0,1.0,78.0,1.0,75.19,27.6])                 |\n",
      "|(13,[0,2,5,7,10,11],[1.0,1.0,1.0,74.0,74.96,26.6])                       |\n",
      "|(13,[4,7,10,11,12],[1.0,14.0,92.22,22.8,0.5])                            |\n",
      "|(13,[0,1,6,7,10,11,12],[1.0,1.0,1.0,69.0,101.52,26.8,1.0])               |\n",
      "|(13,[0,3,6,7,10,11,12],[1.0,1.0,1.0,52.0,87.26,40.1,1.0])                |\n",
      "|(13,[1,7,8,9,10,11,12],[1.0,82.0,1.0,1.0,84.03,26.5,0.75])               |\n",
      "|(13,[1,6,7,10,11],[1.0,1.0,17.0,81.77,44.7])                             |\n",
      "|(13,[0,2,7,10,11,12],[1.0,1.0,73.0,79.69,29.257489451476793,0.75])       |\n",
      "|(13,[0,1,7,8,10,11],[1.0,1.0,59.0,1.0,99.06,23.4])                       |\n",
      "|(13,[0,3,5,7,10,11,12],[1.0,1.0,1.0,60.0,80.86,31.0,1.0])                |\n",
      "|(13,[1,5,7,10,11],[1.0,1.0,14.0,83.42,28.7])                             |\n",
      "|[1.0,1.0,0.0,0.0,0.0,1.0,1.0,69.0,1.0,0.0,229.21,30.1,1.0]               |\n",
      "|[1.0,0.0,0.0,1.0,0.0,1.0,1.0,70.0,0.0,0.0,202.55,29.257489451476793,0.75]|\n",
      "|(13,[1,5,7,10,11],[1.0,1.0,29.0,71.89,27.6])                             |\n",
      "+-------------------------------------------------------------------------+\n",
      "only showing top 20 rows\n",
      "\n"
     ]
    }
   ],
   "source": [
    "predictions_last.select('features').show(truncate=False)"
   ]
  },
  {
   "cell_type": "code",
   "execution_count": null,
   "metadata": {
    "id": "N78sn_e7U3dz",
    "outputId": "41a42949-27f0-461a-d9a2-0220250f45ff"
   },
   "outputs": [
    {
     "name": "stdout",
     "output_type": "stream",
     "text": [
      "+------+----------+\n",
      "|stroke|prediction|\n",
      "+------+----------+\n",
      "|     1|       1.0|\n",
      "|     1|       1.0|\n",
      "|     1|       1.0|\n",
      "|     1|       1.0|\n",
      "|     1|       1.0|\n",
      "|     1|       1.0|\n",
      "|     1|       1.0|\n",
      "|     1|       0.0|\n",
      "|     1|       1.0|\n",
      "|     1|       1.0|\n",
      "|     1|       1.0|\n",
      "|     1|       1.0|\n",
      "|     1|       1.0|\n",
      "|     1|       1.0|\n",
      "|     1|       0.0|\n",
      "|     1|       0.0|\n",
      "|     1|       0.0|\n",
      "|     1|       1.0|\n",
      "|     1|       1.0|\n",
      "|     1|       1.0|\n",
      "+------+----------+\n",
      "only showing top 20 rows\n",
      "\n"
     ]
    }
   ],
   "source": [
    "predictions_last.select('stroke','prediction').filter(predictions_last.stroke==1).show()"
   ]
  },
  {
   "cell_type": "code",
   "execution_count": null,
   "metadata": {
    "id": "DKMDWs6RU3dz",
    "outputId": "fd505927-863b-4f0b-dd04-a5063f6d684c"
   },
   "outputs": [
    {
     "name": "stdout",
     "output_type": "stream",
     "text": [
      "+------+--------------------+\n",
      "|stroke|             weights|\n",
      "+------+--------------------+\n",
      "|     0|0.050000000000000044|\n",
      "|     0|0.050000000000000044|\n",
      "|     0|0.050000000000000044|\n",
      "|     0|0.050000000000000044|\n",
      "|     0|0.050000000000000044|\n",
      "|     0|0.050000000000000044|\n",
      "|     0|0.050000000000000044|\n",
      "|     0|0.050000000000000044|\n",
      "|     0|0.050000000000000044|\n",
      "|     0|0.050000000000000044|\n",
      "|     1|                0.95|\n",
      "|     0|0.050000000000000044|\n",
      "|     0|0.050000000000000044|\n",
      "|     0|0.050000000000000044|\n",
      "|     0|0.050000000000000044|\n",
      "|     0|0.050000000000000044|\n",
      "|     0|0.050000000000000044|\n",
      "|     0|0.050000000000000044|\n",
      "|     0|0.050000000000000044|\n",
      "|     0|0.050000000000000044|\n",
      "+------+--------------------+\n",
      "only showing top 20 rows\n",
      "\n"
     ]
    }
   ],
   "source": [
    "last_train.select('stroke','weights').show()"
   ]
  },
  {
   "cell_type": "markdown",
   "metadata": {
    "id": "c8Wj9NJ7U3dz"
   },
   "source": [
    "## ROC  75.69%"
   ]
  },
  {
   "cell_type": "code",
   "execution_count": null,
   "metadata": {
    "id": "QPxvrqhpU3d0",
    "outputId": "7fb835c4-07c0-4364-9264-222bd68e0c3d"
   },
   "outputs": [
    {
     "data": {
      "text/plain": [
       "0.7569910752231194"
      ]
     },
     "execution_count": 59,
     "metadata": {},
     "output_type": "execute_result"
    }
   ],
   "source": [
    "evaluatorROC.evaluate(predictions_last)"
   ]
  }
 ],
 "metadata": {
  "colab": {
   "name": "Ahmed Mamdouh Farh -  Spark and Python for Big Data Final Exam.ipynb",
   "provenance": []
  },
  "kernelspec": {
   "display_name": "Python 3",
   "language": "python",
   "name": "python3"
  },
  "language_info": {
   "codemirror_mode": {
    "name": "ipython",
    "version": 3
   },
   "file_extension": ".py",
   "mimetype": "text/x-python",
   "name": "python",
   "nbconvert_exporter": "python",
   "pygments_lexer": "ipython3",
   "version": "3.8.5"
  }
 },
 "nbformat": 4,
 "nbformat_minor": 5
}
